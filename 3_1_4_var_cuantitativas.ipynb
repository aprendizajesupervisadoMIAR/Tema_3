{
 "cells": [
  {
   "cell_type": "code",
   "execution_count": null,
   "metadata": {},
   "outputs": [],
   "source": [
    "# Creación aleatoria de datos\n",
    "import numpy as np\n",
    "X = np.array([0.5, 23, 0.3, 4.5, 0.3, 0.5,\n",
    "              -28, -50, 60, -100, -10, -11, 13, 19, 1, 9])"
   ]
  },
  {
   "cell_type": "code",
   "execution_count": null,
   "metadata": {},
   "outputs": [],
   "source": [
    "# Medidas de tendencia central\n",
    "from scipy import stats\n",
    "\n",
    "media = np.mean(X)\n",
    "mediana = np.median(X)\n",
    "moda, _ = stats.mode(X)\n",
    "print('media: ', media)\n",
    "print('mediana: ', mediana)\n",
    "print('moda :', moda[0])"
   ]
  },
  {
   "cell_type": "code",
   "execution_count": null,
   "metadata": {},
   "outputs": [],
   "source": [
    "# Medidas de posición\n",
    "import numpy as np\n",
    "import matplotlib.pyplot as plt\n",
    "\n",
    "Q1 = np.percentile(X, 25)\n",
    "Q3 = np.percentile(X, 75)\n",
    "RIC = Q3 - Q1\n",
    "lim_inf = Q1 - 1.5*RIC\n",
    "lim_sup = Q3 + 1.5*RIC\n",
    "\n",
    "print('RIC :', RIC)\n",
    "print('limite inferior :', lim_inf)\n",
    "print('limite superior :', lim_sup)"
   ]
  },
  {
   "cell_type": "code",
   "execution_count": null,
   "metadata": {},
   "outputs": [],
   "source": [
    "plt.boxplot(X)\n",
    "plt.grid()\n",
    "plt.title('Diagrama de caja y bigotes')\n",
    "plt.show()"
   ]
  },
  {
   "cell_type": "code",
   "execution_count": null,
   "metadata": {},
   "outputs": [],
   "source": [
    "# Medidas de dispersión\n",
    "desvest = np.std(X)\n",
    "print('Desviación típica: ', desvest)\n",
    "print('Varianza: ', desvest**2)"
   ]
  },
  {
   "cell_type": "code",
   "execution_count": null,
   "metadata": {},
   "outputs": [],
   "source": [
    "# Medidas de distribución\n",
    "asimetria = stats.skew(X)\n",
    "curtosis = stats.kurtosis(X, fisher=True) # https://docs.scipy.org/doc/scipy/reference/generated/scipy.stats.kurtosis.html\n",
    "print('Asimetría ', np.round(asimetria, 4))\n",
    "print('Curtosis ', np.round(curtosis, 4))\n",
    "\n",
    "if curtosis>0:\n",
    "    print('Distribución Leptocúrtica')\n",
    "elif curtosis<0:\n",
    "    print('Distribución Platicúrtica')\n",
    "else:\n",
    "    print('Distribución Mesocúrtica')"
   ]
  }
 ],
 "metadata": {
  "kernelspec": {
   "display_name": "Python 3",
   "language": "python",
   "name": "python3"
  },
  "language_info": {
   "codemirror_mode": {
    "name": "ipython",
    "version": 3
   },
   "file_extension": ".py",
   "mimetype": "text/x-python",
   "name": "python",
   "nbconvert_exporter": "python",
   "pygments_lexer": "ipython3",
   "version": "3.8.5"
  }
 },
 "nbformat": 4,
 "nbformat_minor": 4
}
